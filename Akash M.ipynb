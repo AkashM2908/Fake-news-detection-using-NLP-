{
 "cells": [
  {
   "cell_type": "code",
   "execution_count": 3,
   "id": "256311ca",
   "metadata": {},
   "outputs": [],
   "source": [
    "import pandas as pd\n",
    "\n",
    "# Create a sample DataFrame since 'data/Fake.csv' does not exist\n",
    "df = pd.DataFrame({\n",
    "\t'Name': ['Alice', 'Bob', 'Charlie'],\n",
    "\t'Age': [25, 30, 35],\n",
    "\t'City': ['New York', 'Los Angeles', 'Chicago']\n",
    "})\n"
   ]
  },
  {
   "cell_type": "code",
   "execution_count": 5,
   "id": "4eef0a1c",
   "metadata": {},
   "outputs": [
    {
     "name": "stdout",
     "output_type": "stream",
     "text": [
      "      Name  Age         City\n",
      "0    Alice   25     New York\n",
      "1      Bob   30  Los Angeles\n",
      "2  Charlie   35      Chicago\n"
     ]
    }
   ],
   "source": [
    "# The file 'data/True.csv' does not exist, so we will use the existing sample DataFrame 'df'\n",
    "print(df)\n"
   ]
  },
  {
   "cell_type": "code",
   "execution_count": 6,
   "id": "3441d3b3",
   "metadata": {},
   "outputs": [
    {
     "name": "stdout",
     "output_type": "stream",
     "text": [
      "Total articles: (44898, 5)\n",
      "label\n",
      "0    23481\n",
      "1    21417\n",
      "Name: count, dtype: int64\n"
     ]
    }
   ],
   "source": [
    "import pandas as pd\n",
    "\n",
    "# Load data (after downloading and placing files)\n",
    "fake = pd.read_csv('fake.csv')\n",
    "real = pd.read_csv('true.csv')\n",
    "\n",
    "# Add labels: 0 = fake, 1 = real\n",
    "fake['label'] = 0\n",
    "real['label'] = 1\n",
    "\n",
    "# Combine, shuffle\n",
    "df = pd.concat([fake, real]).sample(frac=1, random_state=42).reset_index(drop=True)\n",
    "\n",
    "print(\"Total articles:\", df.shape)\n",
    "print(df['label'].value_counts())\n"
   ]
  },
  {
   "cell_type": "code",
   "execution_count": 7,
   "id": "e1c162eb",
   "metadata": {},
   "outputs": [
    {
     "name": "stdout",
     "output_type": "stream",
     "text": [
      "Total articles: (44898, 5)\n",
      "label\n",
      "0    23481\n",
      "1    21417\n",
      "Name: count, dtype: int64\n"
     ]
    }
   ],
   "source": [
    "import pandas as pd\n",
    "\n",
    "# Load data (after downloading and placing files)\n",
    "fake = pd.read_csv('fake.csv')\n",
    "real = pd.read_csv('true.csv')\n",
    "\n",
    "# Add labels: 0 = fake, 1 = real\n",
    "fake['label'] = 0\n",
    "real['label'] = 1\n",
    "\n",
    "# Combine, shuffle\n",
    "df = pd.concat([fake, real]).sample(frac=1, random_state=42).reset_index(drop=True)\n",
    "\n",
    "print(\"Total articles:\", df.shape)\n",
    "print(df['label'].value_counts())\n"
   ]
  },
  {
   "cell_type": "code",
   "execution_count": 11,
   "id": "0df957ec",
   "metadata": {},
   "outputs": [
    {
     "name": "stdout",
     "output_type": "stream",
     "text": [
      "✅ Accuracy: 0.9848552338530067\n",
      "📊 Confusion Matrix:\n",
      " [[5763   97]\n",
      " [  73 5292]]\n",
      "📝 Classification Report:\n",
      "               precision    recall  f1-score   support\n",
      "\n",
      "           0       0.99      0.98      0.99      5860\n",
      "           1       0.98      0.99      0.98      5365\n",
      "\n",
      "    accuracy                           0.98     11225\n",
      "   macro avg       0.98      0.98      0.98     11225\n",
      "weighted avg       0.98      0.98      0.98     11225\n",
      "\n"
     ]
    }
   ],
   "source": [
    "# 📘 Fake News Detection using Fake.csv and True.csv\n",
    "\n",
    "import pandas as pd\n",
    "import numpy as np\n",
    "from sklearn.model_selection import train_test_split\n",
    "from sklearn.feature_extraction.text import TfidfVectorizer\n",
    "from sklearn.linear_model import LogisticRegression\n",
    "from sklearn.metrics import accuracy_score, confusion_matrix, classification_report\n",
    "\n",
    "# Step 1: Load the CSV files\n",
    "fake = pd.read_csv(\"Fake.csv\")\n",
    "true = pd.read_csv(\"True.csv\")\n",
    "\n",
    "# Step 2: Add labels\n",
    "fake['label'] = 0  # Fake news\n",
    "true['label'] = 1  # Real news\n",
    "\n",
    "# Step 3: Combine the datasets\n",
    "df = pd.concat([fake, true]).sample(frac=1).reset_index(drop=True)\n",
    "\n",
    "# Step 4: Preprocessing - drop unneeded columns\n",
    "df = df[['text', 'label']]  # Using only the article text\n",
    "\n",
    "# Step 5: Train-test split\n",
    "X = df['text']\n",
    "y = df['label']\n",
    "X_train, X_test, y_train, y_test = train_test_split(X, y, test_size=0.25, random_state=42)\n",
    "\n",
    "# Step 6: TF-IDF Vectorization\n",
    "vectorizer = TfidfVectorizer(stop_words='english', max_df=0.7)\n",
    "X_train_vec = vectorizer.fit_transform(X_train)\n",
    "X_test_vec = vectorizer.transform(X_test)\n",
    "\n",
    "# Step 7: Train the model\n",
    "model = LogisticRegression()\n",
    "model.fit(X_train_vec, y_train)\n",
    "\n",
    "# Step 8: Make predictions\n",
    "y_pred = model.predict(X_test_vec)\n",
    "\n",
    "# Step 9: Evaluate the model\n",
    "print(\"✅ Accuracy:\", accuracy_score(y_test, y_pred))\n",
    "print(\"📊 Confusion Matrix:\\n\", confusion_matrix(y_test, y_pred))\n",
    "print(\"📝 Classification Report:\\n\", classification_report(y_test, y_pred))\n"
   ]
  },
  {
   "cell_type": "code",
   "execution_count": 14,
   "id": "631e0c40",
   "metadata": {},
   "outputs": [
    {
     "name": "stdout",
     "output_type": "stream",
     "text": [
      "✅ Accuracy: 0.9824498886414254\n",
      "\n",
      "📊 Confusion Matrix:\n",
      " [[5747  116]\n",
      " [  81 5281]]\n",
      "\n",
      "📝 Classification Report:\n",
      "               precision    recall  f1-score   support\n",
      "\n",
      "           0       0.99      0.98      0.98      5863\n",
      "           1       0.98      0.98      0.98      5362\n",
      "\n",
      "    accuracy                           0.98     11225\n",
      "   macro avg       0.98      0.98      0.98     11225\n",
      "weighted avg       0.98      0.98      0.98     11225\n",
      "\n"
     ]
    }
   ],
   "source": [
    "# 📘 Fake News Detection using Fake.csv and True.csv\n",
    "\n",
    "# Step 1: Import libraries\n",
    "import pandas as pd\n",
    "import numpy as np\n",
    "from sklearn.model_selection import train_test_split\n",
    "from sklearn.feature_extraction.text import TfidfVectorizer\n",
    "from sklearn.linear_model import LogisticRegression\n",
    "from sklearn.metrics import accuracy_score, confusion_matrix, classification_report\n",
    "\n",
    "# Step 2: Use already loaded DataFrames 'fake' and 'true'\n",
    "# fake and true are already defined in the notebook\n",
    "\n",
    "# Step 3: Add labels: 0 for fake, 1 for true\n",
    "fake['label'] = 0\n",
    "true['label'] = 1\n",
    "\n",
    "# Step 4: Combine datasets and shuffle\n",
    "df = pd.concat([fake, true])\n",
    "df = df.sample(frac=1, random_state=42).reset_index(drop=True)\n",
    "\n",
    "# Step 5: Keep only 'text' and 'label' columns\n",
    "df = df[['text', 'label']]\n",
    "\n",
    "# Step 6: Train-test split\n",
    "X = df['text']\n",
    "y = df['label']\n",
    "X_train, X_test, y_train, y_test = train_test_split(X, y, test_size=0.25, random_state=42)\n",
    "\n",
    "# Step 7: TF-IDF Vectorization\n",
    "vectorizer = TfidfVectorizer(stop_words='english', max_df=0.7)\n",
    "X_train_vec = vectorizer.fit_transform(X_train)\n",
    "X_test_vec = vectorizer.transform(X_test)\n",
    "\n",
    "# Step 8: Train the Logistic Regression model\n",
    "model = LogisticRegression()\n",
    "model.fit(X_train_vec, y_train)\n",
    "\n",
    "# Step 9: Evaluate the model\n",
    "y_pred = model.predict(X_test_vec)\n",
    "\n",
    "print(\"✅ Accuracy:\", accuracy_score(y_test, y_pred))\n",
    "print(\"\\n📊 Confusion Matrix:\\n\", confusion_matrix(y_test, y_pred))\n",
    "print(\"\\n📝 Classification Report:\\n\", classification_report(y_test, y_pred))\n",
    "\n",
    "# Step 10: Custom prediction function\n",
    "def predict_news(text):\n",
    "    vec = vectorizer.transform([text])\n",
    "    pred = model.predict(vec)\n",
    "    return \"REAL\" if pred[0] == 1 else \"FAKE\"\n",
    "\n",
    "# Step 11: Try custom input\n",
    "sample = \"Government launches new policy to improve education.\"\n"
   ]
  },
  {
   "cell_type": "code",
   "execution_count": 15,
   "id": "e7ca2ac8",
   "metadata": {},
   "outputs": [
    {
     "name": "stdout",
     "output_type": "stream",
     "text": [
      "Accuracy: 0.9360801781737194\n"
     ]
    }
   ],
   "source": [
    "from sklearn.feature_extraction.text import TfidfVectorizer\n",
    "from sklearn.naive_bayes import MultinomialNB\n",
    "from sklearn.model_selection import train_test_split\n",
    "from sklearn.metrics import accuracy_score\n",
    "\n",
    "X_train, X_test, y_train, y_test = train_test_split(X, y, test_size=0.3)\n",
    "\n",
    "vectorizer = TfidfVectorizer(stop_words='english')\n",
    "X_train_vec = vectorizer.fit_transform(X_train)\n",
    "X_test_vec = vectorizer.transform(X_test)\n",
    "\n",
    "model = MultinomialNB()\n",
    "model.fit(X_train_vec, y_train)\n",
    "\n",
    "y_pred = model.predict(X_test_vec)\n",
    "print(\"Accuracy:\", accuracy_score(y_test, y_pred))\n"
   ]
  },
  {
   "cell_type": "code",
   "execution_count": 17,
   "id": "00cea232",
   "metadata": {},
   "outputs": [
    {
     "data": {
      "text/html": [
       "<div>\n",
       "<style scoped>\n",
       "    .dataframe tbody tr th:only-of-type {\n",
       "        vertical-align: middle;\n",
       "    }\n",
       "\n",
       "    .dataframe tbody tr th {\n",
       "        vertical-align: top;\n",
       "    }\n",
       "\n",
       "    .dataframe thead th {\n",
       "        text-align: right;\n",
       "    }\n",
       "</style>\n",
       "<table border=\"1\" class=\"dataframe\">\n",
       "  <thead>\n",
       "    <tr style=\"text-align: right;\">\n",
       "      <th></th>\n",
       "      <th>text</th>\n",
       "      <th>label</th>\n",
       "    </tr>\n",
       "  </thead>\n",
       "  <tbody>\n",
       "    <tr>\n",
       "      <th>0</th>\n",
       "      <td>21st Century Wire says Ben Stein, reputable pr...</td>\n",
       "      <td>0</td>\n",
       "    </tr>\n",
       "    <tr>\n",
       "      <th>1</th>\n",
       "      <td>WASHINGTON (Reuters) - U.S. President Donald T...</td>\n",
       "      <td>1</td>\n",
       "    </tr>\n",
       "    <tr>\n",
       "      <th>2</th>\n",
       "      <td>(Reuters) - Puerto Rico Governor Ricardo Rosse...</td>\n",
       "      <td>1</td>\n",
       "    </tr>\n",
       "    <tr>\n",
       "      <th>3</th>\n",
       "      <td>On Monday, Donald Trump once again embarrassed...</td>\n",
       "      <td>0</td>\n",
       "    </tr>\n",
       "    <tr>\n",
       "      <th>4</th>\n",
       "      <td>GLASGOW, Scotland (Reuters) - Most U.S. presid...</td>\n",
       "      <td>1</td>\n",
       "    </tr>\n",
       "  </tbody>\n",
       "</table>\n",
       "</div>"
      ],
      "text/plain": [
       "                                                text  label\n",
       "0  21st Century Wire says Ben Stein, reputable pr...      0\n",
       "1  WASHINGTON (Reuters) - U.S. President Donald T...      1\n",
       "2  (Reuters) - Puerto Rico Governor Ricardo Rosse...      1\n",
       "3  On Monday, Donald Trump once again embarrassed...      0\n",
       "4  GLASGOW, Scotland (Reuters) - Most U.S. presid...      1"
      ]
     },
     "execution_count": 17,
     "metadata": {},
     "output_type": "execute_result"
    }
   ],
   "source": [
    "# The variables 'fake', 'true', 'df', 'X', and 'y' are already defined in the notebook.\n",
    "# You can use them directly here without reloading or redefining.\n",
    "\n",
    "# Example: Display the first few rows of the combined DataFrame\n",
    "df.head()\n"
   ]
  },
  {
   "cell_type": "code",
   "execution_count": 18,
   "id": "912c23e5",
   "metadata": {},
   "outputs": [
    {
     "name": "stdout",
     "output_type": "stream",
     "text": [
      "              precision    recall  f1-score   support\n",
      "\n",
      "           0       0.99      0.98      0.98      5950\n",
      "           1       0.98      0.99      0.98      5275\n",
      "\n",
      "    accuracy                           0.98     11225\n",
      "   macro avg       0.98      0.98      0.98     11225\n",
      "weighted avg       0.98      0.98      0.98     11225\n",
      "\n"
     ]
    }
   ],
   "source": [
    "from sklearn.model_selection import train_test_split\n",
    "from sklearn.feature_extraction.text import TfidfVectorizer\n",
    "from sklearn.linear_model import LogisticRegression\n",
    "from sklearn.metrics import classification_report\n",
    "\n",
    "X_train, X_test, y_train, y_test = train_test_split(X, y, test_size=0.25)\n",
    "\n",
    "vectorizer = TfidfVectorizer(stop_words='english')\n",
    "X_train_vec = vectorizer.fit_transform(X_train)\n",
    "X_test_vec = vectorizer.transform(X_test)\n",
    "\n",
    "model = LogisticRegression()\n",
    "model.fit(X_train_vec, y_train)\n",
    "\n",
    "y_pred = model.predict(X_test_vec)\n",
    "print(classification_report(y_test, y_pred))\n"
   ]
  },
  {
   "cell_type": "code",
   "execution_count": 25,
   "id": "49b4cc98",
   "metadata": {},
   "outputs": [],
   "source": [
    "def predict_news(text):\n",
    "    vec = vectorizer.transform([text])\n",
    "    if vec.shape[1] == 0 or vec.nnz == 0:\n",
    "        return \"Input text contains no known words.\"\n",
    "    pred = model.predict(vec)\n",
    "    if len(pred) == 0:\n",
    "        return \"Prediction could not be made.\"\n",
    "    return \"REAL\" if pred[0] == 1 else \"FAKE\"\n"
   ]
  }
 ],
 "metadata": {
  "kernelspec": {
   "display_name": "Python 3",
   "language": "python",
   "name": "python3"
  },
  "language_info": {
   "codemirror_mode": {
    "name": "ipython",
    "version": 3
   },
   "file_extension": ".py",
   "mimetype": "text/x-python",
   "name": "python",
   "nbconvert_exporter": "python",
   "pygments_lexer": "ipython3",
   "version": "3.11.9"
  }
 },
 "nbformat": 4,
 "nbformat_minor": 5
}
